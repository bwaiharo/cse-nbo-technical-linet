{
 "cells": [
  {
   "cell_type": "code",
   "execution_count": 1,
   "metadata": {},
   "outputs": [
    {
     "ename": "ModuleNotFoundError",
     "evalue": "No module named 'DrawSVG'",
     "output_type": "error",
     "traceback": [
      "\u001b[1;31m---------------------------------------------------------------------------\u001b[0m",
      "\u001b[1;31mModuleNotFoundError\u001b[0m                       Traceback (most recent call last)",
      "\u001b[1;32m<ipython-input-1-9f7f9c418c7a>\u001b[0m in \u001b[0;36m<module>\u001b[1;34m\u001b[0m\n\u001b[0;32m      1\u001b[0m \u001b[1;32mimport\u001b[0m \u001b[0mjson\u001b[0m\u001b[1;33m\u001b[0m\u001b[1;33m\u001b[0m\u001b[0m\n\u001b[0;32m      2\u001b[0m \u001b[1;32mfrom\u001b[0m \u001b[0mcollections\u001b[0m \u001b[1;32mimport\u001b[0m \u001b[0mCounter\u001b[0m\u001b[1;33m\u001b[0m\u001b[1;33m\u001b[0m\u001b[0m\n\u001b[1;32m----> 3\u001b[1;33m \u001b[1;32mfrom\u001b[0m \u001b[0mDrawSVG\u001b[0m \u001b[1;32mimport\u001b[0m \u001b[0mSVG\u001b[0m\u001b[1;33m\u001b[0m\u001b[1;33m\u001b[0m\u001b[0m\n\u001b[0m",
      "\u001b[1;31mModuleNotFoundError\u001b[0m: No module named 'DrawSVG'"
     ]
    }
   ],
   "source": [
    "import json\n",
    "from collections import Counter \n",
    "from DrawSVG import SVG"
   ]
  },
  {
   "cell_type": "code",
   "execution_count": null,
   "metadata": {},
   "outputs": [],
   "source": [
    "with open('sample-json.json') as f:\n",
    "  data = json.load(f)"
   ]
  },
  {
   "cell_type": "code",
   "execution_count": null,
   "metadata": {},
   "outputs": [],
   "source": [
    "label = list()\n",
    "shape = list()\n",
    "taggable_image = list()\n",
    "points = list()"
   ]
  },
  {
   "cell_type": "code",
   "execution_count": null,
   "metadata": {},
   "outputs": [],
   "source": [
    "for dt in data:\n",
    "    taggable_image.append(dt['taggable image'])\n",
    "    "
   ]
  },
  {
   "cell_type": "code",
   "execution_count": null,
   "metadata": {},
   "outputs": [],
   "source": [
    "for t in taggable_image:\n",
    "    for i in t:\n",
    "        label.append(i['tags']['label'])\n",
    "        shape.append(i['type'])\n",
    "        points.append(i['points'])"
   ]
  },
  {
   "cell_type": "code",
   "execution_count": null,
   "metadata": {},
   "outputs": [],
   "source": [
    "def number_unique_shapes(s):\n",
    "    return f\"Unique Shapes {list(set(s))}. Number: {len(list(set(s)))}\""
   ]
  },
  {
   "cell_type": "code",
   "execution_count": null,
   "metadata": {},
   "outputs": [],
   "source": [
    "def frequency_of_shapes(l,s):\n",
    "    cntr = Counter(list(zip(shape,label)))\n",
    "    for x, y in cntr.items():\n",
    "        print(f\"Shape/Label: {x}, Count:{y}\")"
   ]
  },
  {
   "cell_type": "code",
   "execution_count": null,
   "metadata": {},
   "outputs": [],
   "source": [
    "def visualization(l,s,p):\n",
    "    return l,s,p"
   ]
  },
  {
   "cell_type": "code",
   "execution_count": null,
   "metadata": {},
   "outputs": [],
   "source": [
    "if __name__ == '__main__':\n",
    "    # print(visualization(label,shape,points))\n",
    "    # print(points[0])\n",
    "    # z=0\n",
    "    # for i in range(len(points)):\n",
    "    #     for p in points:\n",
    "    #         print(p[i][0])\n",
    "    #         z+=1\n",
    "    #         print(z)\n",
    "    # print(number_unique_shapes(shape))\n",
    "    # print(frequency_of_shapes(label,shape))\n",
    "#     d.setRenderSize(400,200)  # Alternative to setPixelScale\n",
    "\n",
    "    mySVG = SVG()\n",
    "    mySVG.write('test.svg')\n",
    "\n",
    "\n",
    "# print(number_unique_shapes(shape))\n",
    "# print(frequency_of_shapes(label,shape))\n",
    "\n",
    "# print(f\"shape {len(shape)}\")\n",
    "# print(\"------------------------\")\n",
    "# print(f\"label {len(label)}\")\n",
    "\n",
    "# print(list(set(zip(shape,label))))\n",
    "# print(Counter(list(zip(shape,label))))"
   ]
  },
  {
   "cell_type": "code",
   "execution_count": null,
   "metadata": {},
   "outputs": [],
   "source": []
  }
 ],
 "metadata": {
  "kernelspec": {
   "display_name": "Python 3",
   "language": "python",
   "name": "python3"
  },
  "language_info": {
   "codemirror_mode": {
    "name": "ipython",
    "version": 3
   },
   "file_extension": ".py",
   "mimetype": "text/x-python",
   "name": "python",
   "nbconvert_exporter": "python",
   "pygments_lexer": "ipython3",
   "version": "3.7.3"
  }
 },
 "nbformat": 4,
 "nbformat_minor": 4
}
