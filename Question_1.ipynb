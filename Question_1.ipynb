{
 "cells": [
  {
   "cell_type": "markdown",
   "metadata": {},
   "source": [
    "## Solution by Linet Nabwire"
   ]
  },
  {
   "cell_type": "markdown",
   "metadata": {},
   "source": [
    "### Needed dependencies"
   ]
  },
  {
   "cell_type": "code",
   "execution_count": 1,
   "metadata": {},
   "outputs": [],
   "source": [
    "import json\n",
    "from collections import Counter \n",
    "from PIL import Image, ImageDraw, ImageFont\n",
    "from itertools import chain"
   ]
  },
  {
   "cell_type": "markdown",
   "metadata": {},
   "source": [
    "### Read the json file, loop and append values to list"
   ]
  },
  {
   "cell_type": "code",
   "execution_count": 2,
   "metadata": {},
   "outputs": [],
   "source": [
    "with open('sample-json.json') as f:\n",
    "  data = json.load(f)"
   ]
  },
  {
   "cell_type": "code",
   "execution_count": 3,
   "metadata": {},
   "outputs": [],
   "source": [
    "label = list()\n",
    "shape = list()\n",
    "taggable_image = list()\n",
    "points = list()\n",
    "index = list()"
   ]
  },
  {
   "cell_type": "code",
   "execution_count": 4,
   "metadata": {},
   "outputs": [],
   "source": [
    "for dt in data:\n",
    "    taggable_image.append(dt['taggable image'])"
   ]
  },
  {
   "cell_type": "code",
   "execution_count": 5,
   "metadata": {},
   "outputs": [],
   "source": [
    "for t in taggable_image:\n",
    "    for i in t:\n",
    "        label.append(i['tags']['label'])\n",
    "        shape.append(i['type'])\n",
    "        points.append(i['points'])\n",
    "        index.append(i['index'])\n",
    "\n"
   ]
  },
  {
   "cell_type": "markdown",
   "metadata": {},
   "source": [
    " ### **number_unique_shapes** method that tallys the unique shapes and their count "
   ]
  },
  {
   "cell_type": "code",
   "execution_count": 6,
   "metadata": {},
   "outputs": [],
   "source": [
    "def number_unique_shapes(s):\n",
    "    return f\"Unique Shapes {list(set(s))}. Number: {len(list(set(s)))}\"\n"
   ]
  },
  {
   "cell_type": "markdown",
   "metadata": {},
   "source": [
    "### **frequency_of_shapes** method that tallys shape/label to its count"
   ]
  },
  {
   "cell_type": "code",
   "execution_count": 7,
   "metadata": {},
   "outputs": [],
   "source": [
    "def frequency_of_shapes(l,s):\n",
    "    cntr = Counter(list(zip(shape,label)))\n",
    "    for x, y in cntr.items():\n",
    "        print(f\"Shape/Label: {x}, Count:{y}\")"
   ]
  },
  {
   "cell_type": "markdown",
   "metadata": {},
   "source": [
    "### **combined dictionary** *key-> shape, value -> point* and visualization method that creates jpg/png  "
   ]
  },
  {
   "cell_type": "code",
   "execution_count": 8,
   "metadata": {},
   "outputs": [],
   "source": [
    "comb_dict = dict()\n",
    "comb_list = list()"
   ]
  },
  {
   "cell_type": "code",
   "execution_count": 9,
   "metadata": {},
   "outputs": [],
   "source": [
    "for g in range(len(shape)):\n",
    "    comb_dict[shape[g]] = points[g] \n",
    "    comb_list.append(comb_dict)"
   ]
  },
  {
   "cell_type": "code",
   "execution_count": 10,
   "metadata": {},
   "outputs": [],
   "source": [
    "def visualization(cdi, idx):\n",
    "    im = Image.new(\"RGB\", (3840, 2160))\n",
    "    draw = ImageDraw.Draw(im)\n",
    "    for k,v in cdi.items():\n",
    "        for x in idx:\n",
    "            if(k == 'rect'):\n",
    "                draw.polygon(list(chain.from_iterable(v)), fill=\"red\")\n",
    "                #im.save('data/dst/pillow_imagedraw.jpg', quality=95)\n",
    "                #print(list(chain.from_iterable(v)))\n",
    "            elif(k == 'line'):\n",
    "                draw.line(list(chain.from_iterable(v)), fill=\"green\")\n",
    "                #print(list(chain.from_iterable(v)))\n",
    "            else:\n",
    "                draw.polygon(list(chain.from_iterable(v)), fill=\"yellow\")\n",
    "                #im.save('data/dst/pillow_imagedraw.jpg', quality=95)\n",
    "                #print(list(chain.from_iterable(v)))\n",
    "            im.save(f'Question 1 Images/pillow_imagedraw{x}.jpg', quality=95)\n",
    "    im.show()"
   ]
  },
  {
   "cell_type": "code",
   "execution_count": 11,
   "metadata": {},
   "outputs": [
    {
     "name": "stdout",
     "output_type": "stream",
     "text": [
      "Unique Shapes ['line', 'polygon', 'rect']. Number: 3\n",
      "---------------------------\n",
      "---------------------------\n",
      "Shape/Label: ('rect', 'car'), Count:21\n",
      "Shape/Label: ('line', 'middle line'), Count:35\n",
      "Shape/Label: ('polygon', 'car'), Count:12\n",
      "Shape/Label: ('rect', 'van'), Count:6\n",
      "Shape/Label: ('polygon', 'van'), Count:6\n",
      "Shape/Label: ('polygon', 'bus'), Count:2\n",
      "Shape/Label: ('line', 'car'), Count:1\n",
      "Shape/Label: ('polygon', 'wheel'), Count:10\n",
      "Shape/Label: ('line', ''), Count:1\n",
      "Shape/Label: ('rect', 'other'), Count:2\n",
      "Shape/Label: ('polygon', 'other'), Count:2\n",
      "Shape/Label: ('rect', 'occlusion'), Count:4\n",
      "Shape/Label: ('rect', 'truck'), Count:2\n",
      "Shape/Label: ('polygon', 'truck'), Count:1\n",
      "None\n"
     ]
    }
   ],
   "source": [
    "if __name__ == '__main__':\n",
    "    print(number_unique_shapes(shape))\n",
    "    print('---------------------------')\n",
    "    print('---------------------------')\n",
    "    print(frequency_of_shapes(label,shape))\n",
    "    visualization(comb_dict,index)"
   ]
  }
 ],
 "metadata": {
  "kernelspec": {
   "display_name": "Python 3",
   "language": "python",
   "name": "python3"
  },
  "language_info": {
   "codemirror_mode": {
    "name": "ipython",
    "version": 3
   },
   "file_extension": ".py",
   "mimetype": "text/x-python",
   "name": "python",
   "nbconvert_exporter": "python",
   "pygments_lexer": "ipython3",
   "version": "3.7.3"
  }
 },
 "nbformat": 4,
 "nbformat_minor": 4
}
