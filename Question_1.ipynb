{
 "cells": [
  {
   "cell_type": "code",
   "execution_count": 61,
   "metadata": {},
   "outputs": [],
   "source": [
    "import json\n",
    "from collections import Counter \n",
    "from PIL import Image, ImageDraw, ImageFont\n"
   ]
  },
  {
   "cell_type": "code",
   "execution_count": 3,
   "metadata": {},
   "outputs": [],
   "source": [
    "with open('sample-json.json') as f:\n",
    "  data = json.load(f)"
   ]
  },
  {
   "cell_type": "code",
   "execution_count": 4,
   "metadata": {},
   "outputs": [],
   "source": [
    "label = list()\n",
    "shape = list()\n",
    "taggable_image = list()\n",
    "points = list()"
   ]
  },
  {
   "cell_type": "code",
   "execution_count": 5,
   "metadata": {},
   "outputs": [],
   "source": [
    "for dt in data:\n",
    "    taggable_image.append(dt['taggable image'])\n",
    "    "
   ]
  },
  {
   "cell_type": "code",
   "execution_count": 6,
   "metadata": {},
   "outputs": [],
   "source": [
    "for t in taggable_image:\n",
    "    for i in t:\n",
    "        label.append(i['tags']['label'])\n",
    "        shape.append(i['type'])\n",
    "        points.append(i['points'])"
   ]
  },
  {
   "cell_type": "code",
   "execution_count": 7,
   "metadata": {},
   "outputs": [],
   "source": [
    "def number_unique_shapes(s):\n",
    "    return f\"Unique Shapes {list(set(s))}. Number: {len(list(set(s)))}\"\n"
   ]
  },
  {
   "cell_type": "code",
   "execution_count": 8,
   "metadata": {},
   "outputs": [
    {
     "name": "stdout",
     "output_type": "stream",
     "text": [
      "Unique Shapes ['rect', 'line', 'polygon']. Number: 3\n"
     ]
    }
   ],
   "source": [
    "print(number_unique_shapes(shape))"
   ]
  },
  {
   "cell_type": "code",
   "execution_count": 9,
   "metadata": {},
   "outputs": [],
   "source": [
    "def frequency_of_shapes(l,s):\n",
    "    cntr = Counter(list(zip(shape,label)))\n",
    "    for x, y in cntr.items():\n",
    "        print(f\"Shape/Label: {x}, Count:{y}\")"
   ]
  },
  {
   "cell_type": "code",
   "execution_count": 10,
   "metadata": {},
   "outputs": [
    {
     "name": "stdout",
     "output_type": "stream",
     "text": [
      "Shape/Label: ('rect', 'car'), Count:21\n",
      "Shape/Label: ('line', 'middle line'), Count:35\n",
      "Shape/Label: ('polygon', 'car'), Count:12\n",
      "Shape/Label: ('rect', 'van'), Count:6\n",
      "Shape/Label: ('polygon', 'van'), Count:6\n",
      "Shape/Label: ('polygon', 'bus'), Count:2\n",
      "Shape/Label: ('line', 'car'), Count:1\n",
      "Shape/Label: ('polygon', 'wheel'), Count:10\n",
      "Shape/Label: ('line', ''), Count:1\n",
      "Shape/Label: ('rect', 'other'), Count:2\n",
      "Shape/Label: ('polygon', 'other'), Count:2\n",
      "Shape/Label: ('rect', 'occlusion'), Count:4\n",
      "Shape/Label: ('rect', 'truck'), Count:2\n",
      "Shape/Label: ('polygon', 'truck'), Count:1\n",
      "None\n"
     ]
    }
   ],
   "source": [
    "print(frequency_of_shapes(label,shape))"
   ]
  },
  {
   "cell_type": "code",
   "execution_count": 11,
   "metadata": {},
   "outputs": [],
   "source": [
    "def visualization(l,s,p):\n",
    "    return l,s,p"
   ]
  },
  {
   "cell_type": "code",
   "execution_count": 62,
   "metadata": {},
   "outputs": [],
   "source": [
    "im = Image.new(\"RGB\", (3840, 2160), (128, 128, 128))\n",
    "draw = ImageDraw.Draw(im)"
   ]
  },
  {
   "cell_type": "code",
   "execution_count": 63,
   "metadata": {},
   "outputs": [],
   "source": [
    "# draw.line([155, 117, 1582, 1172], fill=\"green\")\n",
    "draw.polygon([1132, 1310, 1121, 1310,1111, 1319,1105, 1332,1100, 1348,1104, 1366,\n",
    "  1116, 1376,1129, 1376,1139, 1370,1148, 1360,1151, 1344,1151, 1332,1146, 1315,1139, 1311], fill=(255, 255, 0))"
   ]
  },
  {
   "cell_type": "code",
   "execution_count": 64,
   "metadata": {},
   "outputs": [],
   "source": [
    "#draw.polygon([217, 1052, 560, 1052 ,217, 1464,560, 1464])"
   ]
  },
  {
   "cell_type": "code",
   "execution_count": 65,
   "metadata": {},
   "outputs": [],
   "source": [
    "im.show()\n"
   ]
  },
  {
   "cell_type": "code",
   "execution_count": 18,
   "metadata": {},
   "outputs": [],
   "source": [
    "points_list = list()"
   ]
  },
  {
   "cell_type": "code",
   "execution_count": 19,
   "metadata": {},
   "outputs": [],
   "source": [
    "for y in range(len(points)):\n",
    "    if(shape[y] == 'rect'):\n",
    "        for p in points[y]:\n",
    "            points_list.append(p[0]-p[1])"
   ]
  },
  {
   "cell_type": "code",
   "execution_count": 20,
   "metadata": {},
   "outputs": [
    {
     "data": {
      "text/plain": [
       "140"
      ]
     },
     "execution_count": 20,
     "metadata": {},
     "output_type": "execute_result"
    }
   ],
   "source": [
    "len(points_list)"
   ]
  },
  {
   "cell_type": "code",
   "execution_count": 21,
   "metadata": {},
   "outputs": [],
   "source": [
    "comb_dict = dict()\n",
    "comb_list = list()"
   ]
  },
  {
   "cell_type": "code",
   "execution_count": 22,
   "metadata": {},
   "outputs": [],
   "source": [
    "for g in range(len(shape)):\n",
    "    comb_dict[shape[g]] = points[g] \n",
    "    comb_list.append(comb_dict)"
   ]
  },
  {
   "cell_type": "code",
   "execution_count": 23,
   "metadata": {},
   "outputs": [
    {
     "data": {
      "text/plain": [
       "105"
      ]
     },
     "execution_count": 23,
     "metadata": {},
     "output_type": "execute_result"
    }
   ],
   "source": [
    "len(comb_list)"
   ]
  },
  {
   "cell_type": "code",
   "execution_count": 41,
   "metadata": {},
   "outputs": [
    {
     "data": {
      "text/plain": [
       "[[217, 1052], [560, 1052], [217, 1464], [560, 1464]]"
      ]
     },
     "execution_count": 41,
     "metadata": {},
     "output_type": "execute_result"
    }
   ],
   "source": [
    "comb_list[104]['rect']"
   ]
  },
  {
   "cell_type": "code",
   "execution_count": 52,
   "metadata": {},
   "outputs": [
    {
     "data": {
      "text/plain": [
       "{'rect': [[217, 1052], [560, 1052], [217, 1464], [560, 1464]],\n",
       " 'line': [[313, 1052], [317, 1464]],\n",
       " 'polygon': [[1132, 1310],\n",
       "  [1121, 1310],\n",
       "  [1111, 1319],\n",
       "  [1105, 1332],\n",
       "  [1100, 1348],\n",
       "  [1104, 1366],\n",
       "  [1116, 1376],\n",
       "  [1129, 1376],\n",
       "  [1139, 1370],\n",
       "  [1148, 1360],\n",
       "  [1151, 1344],\n",
       "  [1151, 1332],\n",
       "  [1146, 1315],\n",
       "  [1139, 1311]]}"
      ]
     },
     "execution_count": 52,
     "metadata": {},
     "output_type": "execute_result"
    }
   ],
   "source": [
    "comb_list[104]"
   ]
  },
  {
   "cell_type": "code",
   "execution_count": null,
   "metadata": {},
   "outputs": [],
   "source": []
  },
  {
   "cell_type": "code",
   "execution_count": null,
   "metadata": {},
   "outputs": [],
   "source": []
  },
  {
   "cell_type": "code",
   "execution_count": null,
   "metadata": {},
   "outputs": [],
   "source": []
  }
 ],
 "metadata": {
  "kernelspec": {
   "display_name": "Python 3",
   "language": "python",
   "name": "python3"
  },
  "language_info": {
   "codemirror_mode": {
    "name": "ipython",
    "version": 3
   },
   "file_extension": ".py",
   "mimetype": "text/x-python",
   "name": "python",
   "nbconvert_exporter": "python",
   "pygments_lexer": "ipython3",
   "version": "3.7.3"
  }
 },
 "nbformat": 4,
 "nbformat_minor": 4
}
